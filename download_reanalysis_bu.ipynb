{
 "cells": [
  {
   "cell_type": "markdown",
   "id": "848493bf-f155-4f5d-bf37-dce80c4c10d1",
   "metadata": {},
   "source": [
    "# Download ERA5 data"
   ]
  },
  {
   "cell_type": "code",
   "execution_count": 1,
   "id": "d636bb80-e512-4389-93fe-885dbc6bc746",
   "metadata": {},
   "outputs": [],
   "source": [
    "from herbie import Herbie\n",
    "\n",
    "import cartopy.crs as ccrs\n",
    "import matplotlib.pyplot as plt\n",
    "import numpy as np\n",
    "\n",
    "from herbie import paint\n",
    "from herbie.toolbox import EasyMap, pc"
   ]
  },
  {
   "cell_type": "code",
   "execution_count": 7,
   "id": "f60d2efa-cafc-4007-a400-38ef643dc61a",
   "metadata": {},
   "outputs": [
    {
     "name": "stdout",
     "output_type": "stream",
     "text": [
      "✅ Found ┊ model=ifs ┊ \u001b[3mproduct=oper\u001b[0m ┊ \u001b[38;2;41;130;13m2024-Mar-01 00:00 UTC\u001b[92m F12\u001b[0m ┊ \u001b[38;2;255;153;0m\u001b[3mGRIB2 @ aws\u001b[0m ┊ \u001b[38;2;255;153;0m\u001b[3mIDX @ aws\u001b[0m\n"
     ]
    },
    {
     "data": {
      "text/plain": [
       "('https://ecmwf-forecasts.s3.eu-central-1.amazonaws.com/20240301/00z/ifs/0p25/oper/20240301000000-12h-oper-fc.grib2',\n",
       " 'https://ecmwf-forecasts.s3.eu-central-1.amazonaws.com/20240301/00z/ifs/0p25/oper/20240301000000-12h-oper-fc.index')"
      ]
     },
     "execution_count": 7,
     "metadata": {},
     "output_type": "execute_result"
    }
   ],
   "source": [
    "H = Herbie(\"2024-03-1\", model=\"ifs\", product=\"oper\", fxx=12)\n",
    "\n",
    "H.grib, H.idx"
   ]
  },
  {
   "cell_type": "code",
   "execution_count": null,
   "id": "c7fbc564-3e64-4c36-943f-a77b1aff61fe",
   "metadata": {},
   "outputs": [],
   "source": []
  }
 ],
 "metadata": {
  "kernelspec": {
   "display_name": "Python (your_environment_name)",
   "language": "python",
   "name": "your_environment_name"
  },
  "language_info": {
   "codemirror_mode": {
    "name": "ipython",
    "version": 3
   },
   "file_extension": ".py",
   "mimetype": "text/x-python",
   "name": "python",
   "nbconvert_exporter": "python",
   "pygments_lexer": "ipython3",
   "version": "3.12.2"
  }
 },
 "nbformat": 4,
 "nbformat_minor": 5
}
